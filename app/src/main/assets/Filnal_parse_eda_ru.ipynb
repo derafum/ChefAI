{
  "cells": [
    {
      "cell_type": "markdown",
      "metadata": {
        "id": "1pv0qfr_XwI8"
      },
      "source": [
        "# Подключение библиотек"
      ]
    },
    {
      "cell_type": "code",
      "execution_count": null,
      "metadata": {
        "id": "njskX917XumE",
        "colab": {
          "base_uri": "https://localhost:8080/"
        },
        "outputId": "24ff6540-70f9-4ed0-bd69-639687940083"
      },
      "outputs": [
        {
          "output_type": "stream",
          "name": "stdout",
          "text": [
            "Looking in indexes: https://pypi.org/simple, https://us-python.pkg.dev/colab-wheels/public/simple/\n",
            "Requirement already satisfied: tqdm in /usr/local/lib/python3.10/dist-packages (4.65.0)\n",
            "Requirement already satisfied: lxml in /usr/local/lib/python3.10/dist-packages (4.9.2)\n"
          ]
        }
      ],
      "source": [
        "!pip install tqdm lxml"
      ]
    },
    {
      "cell_type": "code",
      "execution_count": null,
      "metadata": {
        "id": "G_gRChoEXq34"
      },
      "outputs": [],
      "source": [
        "import os\n",
        "import re\n",
        "import math\n",
        "import json\n",
        "import asyncio\n",
        "import requests\n",
        "from tqdm.auto import tqdm\n",
        "import time\n",
        "from bs4 import BeautifulSoup\n",
        "from urllib.parse import urljoin"
      ]
    },
    {
      "cell_type": "markdown",
      "source": [
        "# Ссылка на главную страницу сайта"
      ],
      "metadata": {
        "id": "1PImAeqpoZOY"
      }
    },
    {
      "cell_type": "code",
      "source": [
        "ROOT_URL = 'https://eda.ru/'"
      ],
      "metadata": {
        "id": "woNyzZEioYqR"
      },
      "execution_count": null,
      "outputs": []
    },
    {
      "cell_type": "markdown",
      "metadata": {
        "id": "cS4GHuYxaTkD"
      },
      "source": [
        "# Парсер основной страницы"
      ]
    },
    {
      "cell_type": "code",
      "execution_count": null,
      "metadata": {
        "id": "javdwLv8YWSM"
      },
      "outputs": [],
      "source": [
        "def parse_categories(url) -> dict:\n",
        "    \"\"\"\n",
        "    Производит парсинг категорий и подкатегорий с основной страницы\n",
        "    \"\"\"\n",
        "\n",
        "    response = requests.get(url)\n",
        "    soup = BeautifulSoup(response.text, 'lxml')\n",
        "\n",
        "    categories = {}\n",
        "    for category_block in soup.find_all('div', {'class': 'emotion-mnijqh'}):\n",
        "        category_name = category_block.h3.find(string=True, recursive=False)\n",
        "        category_link = urljoin(url, category_block.find('a').get('href'))\n",
        "\n",
        "        subcategories = {}\n",
        "        for subcategory_block in category_block.findAll('div', {'class': 'emotion-8asrz1'}):\n",
        "            subcategory_name = subcategory_block.span.find(string=True, recursive=False)\n",
        "            subcategory_link = urljoin(url, subcategory_block.find('a').get('href'))\n",
        "\n",
        "            subcategories[subcategory_name] = subcategory_link\n",
        "        \n",
        "        categories[category_name] = {\n",
        "            'lnk': category_link,\n",
        "            'subcategories': subcategories\n",
        "        }\n",
        "\n",
        "    return categories"
      ]
    },
    {
      "cell_type": "markdown",
      "metadata": {
        "id": "9ViBGcLNaXWH"
      },
      "source": [
        "# Парсер списка рецептов из категории"
      ]
    },
    {
      "cell_type": "code",
      "execution_count": null,
      "metadata": {
        "id": "D0DmMg4aZemh"
      },
      "outputs": [],
      "source": [
        "def add_recipes_from_page(url_recipes_page, recipes_roll: list, root_url=ROOT_URL):\n",
        "    \"\"\"\n",
        "    Добавляет рецепты в список рецептов\n",
        "    Принимает адрес страницы с рецептами\n",
        "    \"\"\"\n",
        "    response = requests.get(url_recipes_page)\n",
        "    soup = BeautifulSoup(response.text, 'lxml')\n",
        "    \n",
        "    for recipe_block in soup.find_all('div', {'class': 'emotion-m0u77r'}):\n",
        "        recipe_image = recipe_block.find('img', {'class': 'emotion-0'}).get('src')\n",
        "        recipe_image = None if recipe_image.startswith('data:') else recipe_image\n",
        "        recipe_name = getattr(recipe_block.find('span', {'class': 'emotion-1pdj9vu'}), 'text', None)\n",
        "        recipe_link = urljoin(root_url, recipe_block.find('a', {'class': 'emotion-18hxz5k'}).get('href'))\n",
        "        \n",
        "        recipes_roll.append({\n",
        "            'name': recipe_name,\n",
        "            'img': recipe_image,\n",
        "            'lnk': recipe_link,\n",
        "        })"
      ]
    },
    {
      "cell_type": "code",
      "execution_count": null,
      "metadata": {
        "id": "MGU73DZ6ZTza"
      },
      "outputs": [],
      "source": [
        "def parse_recipes_from_category(category_url, category_name, start_page=1, stop_page=None) -> list:\n",
        "    \"\"\"\n",
        "    Парсер рецептов из конкретной категории\n",
        "    Пример категории: Торты - https://eda.ru/recepty/torty\n",
        "    \"\"\"\n",
        "    recipes_roll = []\n",
        "\n",
        "    if stop_page is None:\n",
        "        # Кол-во рецептов на одной странице\n",
        "        amount_recipes_on_page = 14\n",
        "        # Определение общего количества рецептов данной категории\n",
        "        total_recipes_amount = int(re.search(r'\\d+',\n",
        "                                             BeautifulSoup(requests.get(category_url).text, 'lxml').title.text).group(0))\n",
        "        \n",
        "        stop_page = math.ceil(total_recipes_amount / amount_recipes_on_page)\n",
        "    \n",
        "    for page_number in tqdm(range(start_page, stop_page + 1), desc=category_name, leave=False, colour='blue'):\n",
        "        url_recipes_page = category_url + f'?page={page_number}'\n",
        "        add_recipes_from_page(url_recipes_page, recipes_roll)\n",
        "\n",
        "    return recipes_roll"
      ]
    },
    {
      "cell_type": "markdown",
      "metadata": {
        "id": "I4I52BK8cG9g"
      },
      "source": [
        "# Парсер конкретного рецепта"
      ]
    },
    {
      "cell_type": "code",
      "execution_count": null,
      "metadata": {
        "id": "UxKGR_yhcCDV"
      },
      "outputs": [],
      "source": [
        "def parse_recipe(html: str,\n",
        "                 url_recipe: str,\n",
        "                 image=None) -> dict:\n",
        "        \"\"\"\n",
        "        Парсит конкретный рецепт по абсолютной ссылке\n",
        "        \"\"\"\n",
        "        soup = BeautifulSoup(html, 'lxml')\n",
        "\n",
        "        recipe = {}\n",
        "\n",
        "        recipe['Название'] = getattr(soup.find('h1', {'class': 'emotion-gl52ge'}), 'text', None)\n",
        "        recipe['Ссылка на рецепт'] = url_recipe\n",
        "        recipe['Изображение'] = image\n",
        "\n",
        "        recipe['Время приготовления'] = getattr(soup.find('div', {'class': 'emotion-my9yfq'}), 'text', None)\n",
        "        recipe['Количество порций'] = getattr(soup.find('span', {'itemprop': \"recipeYield\"}), 'text', None)\n",
        "\n",
        "        recipe['Энергетическая ценность на порцию'] = {\n",
        "            'калорийность': getattr(soup.find('span', {'itemprop': \"calories\"}), 'text', None),\n",
        "            'белки': getattr(soup.find('span', {'itemprop': \"proteinContent\"}), 'text', None),\n",
        "            'жиры': getattr(soup.find('span', {'itemprop': \"fatContent\"}), 'text', None),\n",
        "            'углеводы': getattr(soup.find('span', {'itemprop': \"carbohydrateContent\"}), 'text', None),\n",
        "        }\n",
        "\n",
        "        recipe['Ингредиенты'] = {\n",
        "            getattr(ingredient.find('span', {'itemprop': 'recipeIngredient'}), 'text', None):\n",
        "            getattr(ingredient.find('span', {'class': 'emotion-bsdd3p'}), 'text', None)\n",
        "            for ingredient in soup.find_all('div', {'class': 'emotion-7yevpr'})\n",
        "        }\n",
        "\n",
        "        recipe['Описание'] = getattr(soup.find('span', {'class': 'emotion-aiknw3'}), 'text', None)\n",
        "\n",
        "        recipe['Инструкция приготовления'] = [step.text for step in soup.find_all('span', {'class': 'emotion-wdt5in'})]\n",
        "\n",
        "        recipe['Совет к рецепту'] = getattr(soup.find('div', {'class': 'emotion-1mtrnmn'}), 'text', None)\n",
        "\n",
        "        return recipe"
      ]
    },
    {
      "cell_type": "code",
      "source": [
        "def sync_parse_recipe(url: str, image=None):\n",
        "    response = requests.get(url)\n",
        "    return parse_recipe(response.text, url, image)"
      ],
      "metadata": {
        "id": "hGqki7cj9Ixt"
      },
      "execution_count": null,
      "outputs": []
    },
    {
      "cell_type": "code",
      "source": [
        "async def async_parse_recipe(session, url: str, recipes: dict, image=None):\n",
        "    async with session.get(url) as resp:\n",
        "        assert resp.status == 200\n",
        "        resp_text = await resp.text()\n",
        "        recipes[url] = parse_recipe(resp_text, url, image)"
      ],
      "metadata": {
        "id": "BqYDYnpO_Mcz"
      },
      "execution_count": null,
      "outputs": []
    },
    {
      "cell_type": "code",
      "source": [
        "async def async_parse_recipes(recipes: list, write_to: dict):\n",
        "    async with aiohttp.ClientSession() as session:\n",
        "        \n",
        "        tasks = []\n",
        "        for recipe in recipes:\n",
        "            recipe_name, recipe_link, recipe_image = recipe['name'], recipe['lnk'], recipe['img']\n",
        "\n",
        "            if recipe_link not in write_to:\n",
        "                task = asyncio.create_task(async_parse_recipe(session, recipe_link, write_to, recipe_image))\n",
        "                tasks.append(task)\n",
        "\n",
        "        await asyncio.gather(*tasks)"
      ],
      "metadata": {
        "id": "qUUceC69BEv1"
      },
      "execution_count": null,
      "outputs": []
    },
    {
      "cell_type": "markdown",
      "metadata": {
        "id": "i4Jo9Cl6dgrc"
      },
      "source": [
        "# Функции для сохранений и загрузки"
      ]
    },
    {
      "cell_type": "code",
      "source": [
        "from google.colab import drive\n",
        "drive.mount('/content/drive/')"
      ],
      "metadata": {
        "colab": {
          "base_uri": "https://localhost:8080/"
        },
        "id": "ubirQt0KBedP",
        "outputId": "308daa65-62be-47c9-b722-82eb781dfa18"
      },
      "execution_count": null,
      "outputs": [
        {
          "output_type": "stream",
          "name": "stdout",
          "text": [
            "Mounted at /content/drive/\n"
          ]
        }
      ]
    },
    {
      "cell_type": "code",
      "source": [
        "PATH = '/content/drive/MyDrive/Colab Notebooks/ChefAI/'"
      ],
      "metadata": {
        "id": "UKzrJrg6_xQe"
      },
      "execution_count": null,
      "outputs": []
    },
    {
      "cell_type": "code",
      "source": [
        "os.listdir(PATH)"
      ],
      "metadata": {
        "colab": {
          "base_uri": "https://localhost:8080/"
        },
        "id": "UZP7yFp9Iybu",
        "outputId": "94d8c3f9-52ee-40bc-dd68-53ecf5e688ad"
      },
      "execution_count": null,
      "outputs": [
        {
          "output_type": "execute_result",
          "data": {
            "text/plain": [
              "['recipes_from_categories.json',\n",
              " '.ipynb_checkpoints',\n",
              " 'all_categories.json',\n",
              " 'Заготовки.json',\n",
              " 'all_recipes.json',\n",
              " 'Filnal-parse_eda.ru.ipynb']"
            ]
          },
          "metadata": {},
          "execution_count": 21
        }
      ]
    },
    {
      "cell_type": "code",
      "execution_count": null,
      "metadata": {
        "id": "XjGFj2n5djAw"
      },
      "outputs": [],
      "source": [
        "def dump(obj, filename='dump', path=PATH):\n",
        "    with open(os.path.join(path, f'{filename}.json'), 'w', encoding='utf-8') as json_file:\n",
        "        json.dump(obj, json_file, indent=2, ensure_ascii=False)"
      ]
    },
    {
      "cell_type": "code",
      "source": [
        "def load(filename: str, path=PATH):\n",
        "    return json.loads(open(os.path.join(path, f'{filename}.json'), 'r', encoding='utf-8').read())"
      ],
      "metadata": {
        "id": "_8P6WyhPDYOi"
      },
      "execution_count": null,
      "outputs": []
    },
    {
      "cell_type": "code",
      "source": [
        "def exist(filename: str, path=PATH):\n",
        "    return f'{filename}.json' in os.listdir(path)"
      ],
      "metadata": {
        "id": "33eu-IAREAeM"
      },
      "execution_count": null,
      "outputs": []
    },
    {
      "cell_type": "markdown",
      "metadata": {
        "id": "DZSWM9-VfWmM"
      },
      "source": [
        "# Парсинг категорий"
      ]
    },
    {
      "cell_type": "code",
      "execution_count": null,
      "metadata": {
        "id": "3H_UM2t7co-6"
      },
      "outputs": [],
      "source": [
        "all_categories_filename = 'all_categories'\n",
        "if exist(all_categories_filename):\n",
        "    categories = load(all_categories_filename)\n",
        "else:\n",
        "    categories = parse_categories(ROOT_URL)\n",
        "    dump(categories, all_categories_filename)"
      ]
    },
    {
      "cell_type": "markdown",
      "metadata": {
        "id": "48diqlkCfaOv"
      },
      "source": [
        "# Парсинг списка рецептов для каждой категории и подкатегорий"
      ]
    },
    {
      "cell_type": "code",
      "source": [
        "recipes_from_categories_filename = 'recipes_from_categories'\n",
        "if exist(recipes_from_categories_filename):\n",
        "    recipes_from_categories = load(recipes_from_categories_filename)\n",
        "else:\n",
        "    recipes_from_categories = {}\n",
        "\n",
        "    while len(recipes_from_categories) < len(categories):\n",
        "        for category_name, category_data in tqdm(categories.items(), desc='Парсинг категорий'):\n",
        "            if category_name in recipes_from_categories:\n",
        "                continue\n",
        "            \n",
        "            if exist(category_name):\n",
        "                recipes_from_categories[category_name] = load(category_name)\n",
        "                continue\n",
        "\n",
        "            category_link, subcategories = category_data['lnk'], category_data['subcategories']\n",
        "            \n",
        "            # парсим основную категорию\n",
        "            try:\n",
        "                category = {category_name: parse_recipes_from_category(category_link, category_name)}\n",
        "            except:\n",
        "                break\n",
        "\n",
        "            # парсим все подкатегории\n",
        "            while len(category) < len(subcategories):\n",
        "                for subcategory_name, subcategory_link in tqdm(subcategories.items(), desc=category_name, leave=False):\n",
        "                    if subcategory_name in category:\n",
        "                        continue\n",
        "                    try:\n",
        "                        category[subcategory_name] = parse_recipes_from_category(subcategory_link, subcategory_name)\n",
        "                    except:\n",
        "                        break\n",
        "            \n",
        "            # Запись категории в словарь со всеми категориями и рецептами\n",
        "            recipes_from_categories[category_name] = category\n",
        "\n",
        "            # сохраняем категорию\n",
        "            dump(category, category_name)\n",
        "\n",
        "    # Сохраняем финальный результат (Списоки поверхностной информации о рецептах для всех категорий и подкатегорий)\n",
        "    dump(recipes_from_categories, recipes_from_categories_filename)"
      ],
      "metadata": {
        "id": "HjnnDkvx1HD8"
      },
      "execution_count": null,
      "outputs": []
    },
    {
      "cell_type": "markdown",
      "source": [
        "# Подготовка к парсингу рецептов"
      ],
      "metadata": {
        "id": "3JA7cYL3a2YF"
      }
    },
    {
      "cell_type": "code",
      "source": [
        "total_recipes = len({recipe['lnk']\n",
        "                     for subcategories in recipes_from_categories.values()\n",
        "                     for subcategory in subcategories.values()\n",
        "                     for recipe in subcategory})"
      ],
      "metadata": {
        "id": "d6GnA_HqbCTy"
      },
      "execution_count": null,
      "outputs": []
    },
    {
      "cell_type": "code",
      "source": [
        "timeout = 30\n",
        "retry = None"
      ],
      "metadata": {
        "id": "hAUg0006bB5G"
      },
      "execution_count": null,
      "outputs": []
    },
    {
      "cell_type": "markdown",
      "source": [
        "# Синхронный парсинг всех рецептов"
      ],
      "metadata": {
        "id": "UL1TVRivM-Gm"
      }
    },
    {
      "cell_type": "code",
      "source": [
        "all_recipes_filename = 'all_recipes'\n",
        "all_recipes_tmp_filename = 'tmp'\n",
        "\n",
        "if exist(all_recipes_filename):\n",
        "    all_recipes = load(all_recipes_filename)\n",
        "elif exist(all_recipes_tmp_filename):\n",
        "    all_recipes = load(all_recipes_tmp_filename)\n",
        "else:\n",
        "    all_recipes = {}"
      ],
      "metadata": {
        "id": "sAotOuZCa16-"
      },
      "execution_count": null,
      "outputs": []
    },
    {
      "cell_type": "code",
      "source": [
        "print(len(all_recipes), total_recipes)"
      ],
      "metadata": {
        "colab": {
          "base_uri": "https://localhost:8080/"
        },
        "id": "v6mm0xxvg-Fs",
        "outputId": "bc60df12-5584-4bbe-fd4b-b7786cf079d5"
      },
      "execution_count": null,
      "outputs": [
        {
          "output_type": "stream",
          "name": "stdout",
          "text": [
            "47241 47241\n"
          ]
        }
      ]
    },
    {
      "cell_type": "code",
      "source": [
        "amount = 0\n",
        "while len(all_recipes) < total_recipes:\n",
        "    try:\n",
        "        for category_name, subcategories in tqdm(recipes_from_categories.items(),\n",
        "                                                 desc='Парсинг рецептов'):\n",
        "            for subcategory_name, recipes_roll in tqdm(subcategories.items(),\n",
        "                                                       desc=category_name,\n",
        "                                                       leave=False):\n",
        "                for recipe in tqdm(recipes_roll,\n",
        "                                   desc=subcategory_name,\n",
        "                                   leave=False):\n",
        "                    if recipe['lnk'] in all_recipes:\n",
        "                        continue\n",
        "\n",
        "                    all_recipes[recipe['lnk']] = sync_parse_recipe(recipe['lnk'], recipe['img'])\n",
        "\n",
        "    except Exception as e:\n",
        "        print(e)\n",
        "        time.sleep(timeout)\n",
        "        amount += 1\n",
        "\n",
        "    except KeyboardInterrupt as e:\n",
        "        break\n",
        "        \n",
        "    finally:\n",
        "        dump(all_recipes, all_recipes_tmp_filename)\n",
        "        if retry and amount >= retry:\n",
        "            break\n",
        "\n",
        "dump(all_recipes, all_recipes_filename)"
      ],
      "metadata": {
        "id": "6kOW2FR3Mxuu"
      },
      "execution_count": null,
      "outputs": []
    },
    {
      "cell_type": "markdown",
      "source": [
        "# Асинхронный парсинг всех рецептов"
      ],
      "metadata": {
        "id": "wb0nRTdX-dPc"
      }
    },
    {
      "cell_type": "code",
      "source": [
        "!pip install aiohttp"
      ],
      "metadata": {
        "id": "f6chz6vx-pDr",
        "colab": {
          "base_uri": "https://localhost:8080/"
        },
        "outputId": "229959ee-9e36-470d-e0a5-d63a788aabba"
      },
      "execution_count": null,
      "outputs": [
        {
          "output_type": "stream",
          "name": "stdout",
          "text": [
            "Looking in indexes: https://pypi.org/simple, https://us-python.pkg.dev/colab-wheels/public/simple/\n",
            "Collecting aiohttp\n",
            "  Downloading aiohttp-3.8.4-cp310-cp310-manylinux_2_17_x86_64.manylinux2014_x86_64.whl (1.0 MB)\n",
            "\u001b[2K     \u001b[90m━━━━━━━━━━━━━━━━━━━━━━━━━━━━━━━━━━━━━━━━\u001b[0m \u001b[32m1.0/1.0 MB\u001b[0m \u001b[31m49.3 MB/s\u001b[0m eta \u001b[36m0:00:00\u001b[0m\n",
            "\u001b[?25hCollecting multidict<7.0,>=4.5\n",
            "  Downloading multidict-6.0.4-cp310-cp310-manylinux_2_17_x86_64.manylinux2014_x86_64.whl (114 kB)\n",
            "\u001b[2K     \u001b[90m━━━━━━━━━━━━━━━━━━━━━━━━━━━━━━━━━━━━━━\u001b[0m \u001b[32m114.5/114.5 kB\u001b[0m \u001b[31m15.5 MB/s\u001b[0m eta \u001b[36m0:00:00\u001b[0m\n",
            "\u001b[?25hCollecting async-timeout<5.0,>=4.0.0a3\n",
            "  Downloading async_timeout-4.0.2-py3-none-any.whl (5.8 kB)\n",
            "Requirement already satisfied: charset-normalizer<4.0,>=2.0 in /usr/local/lib/python3.10/dist-packages (from aiohttp) (2.0.12)\n",
            "Collecting frozenlist>=1.1.1\n",
            "  Downloading frozenlist-1.3.3-cp310-cp310-manylinux_2_5_x86_64.manylinux1_x86_64.manylinux_2_17_x86_64.manylinux2014_x86_64.whl (149 kB)\n",
            "\u001b[2K     \u001b[90m━━━━━━━━━━━━━━━━━━━━━━━━━━━━━━━━━━━━━━\u001b[0m \u001b[32m149.6/149.6 kB\u001b[0m \u001b[31m19.2 MB/s\u001b[0m eta \u001b[36m0:00:00\u001b[0m\n",
            "\u001b[?25hRequirement already satisfied: attrs>=17.3.0 in /usr/local/lib/python3.10/dist-packages (from aiohttp) (23.1.0)\n",
            "Collecting aiosignal>=1.1.2\n",
            "  Downloading aiosignal-1.3.1-py3-none-any.whl (7.6 kB)\n",
            "Collecting yarl<2.0,>=1.0\n",
            "  Downloading yarl-1.9.2-cp310-cp310-manylinux_2_17_x86_64.manylinux2014_x86_64.whl (268 kB)\n",
            "\u001b[2K     \u001b[90m━━━━━━━━━━━━━━━━━━━━━━━━━━━━━━━━━━━━━━\u001b[0m \u001b[32m268.8/268.8 kB\u001b[0m \u001b[31m32.5 MB/s\u001b[0m eta \u001b[36m0:00:00\u001b[0m\n",
            "\u001b[?25hRequirement already satisfied: idna>=2.0 in /usr/local/lib/python3.10/dist-packages (from yarl<2.0,>=1.0->aiohttp) (3.4)\n",
            "Installing collected packages: multidict, frozenlist, async-timeout, yarl, aiosignal, aiohttp\n",
            "Successfully installed aiohttp-3.8.4 aiosignal-1.3.1 async-timeout-4.0.2 frozenlist-1.3.3 multidict-6.0.4 yarl-1.9.2\n"
          ]
        }
      ]
    },
    {
      "cell_type": "code",
      "source": [
        "import nest_asyncio\n",
        "nest_asyncio.apply()\n",
        "\n",
        "import aiohttp\n",
        "import asyncio"
      ],
      "metadata": {
        "id": "JtczyCcE-b0k"
      },
      "execution_count": null,
      "outputs": []
    },
    {
      "cell_type": "code",
      "source": [
        "def take_by(roll: list, amount: int = 1):\n",
        "    for i in range(0, len(roll), amount):\n",
        "        yield roll[i:i + amount]"
      ],
      "metadata": {
        "id": "UPnRJKtNs1-9"
      },
      "execution_count": null,
      "outputs": []
    },
    {
      "cell_type": "code",
      "source": [
        "number_requests = 3"
      ],
      "metadata": {
        "id": "wvntmtcpfY5U"
      },
      "execution_count": null,
      "outputs": []
    },
    {
      "cell_type": "code",
      "source": [
        "amount = 0\n",
        "while len(all_recipes) < total_recipes:\n",
        "    try:\n",
        "        for category_name, subcategories in tqdm(recipes_from_categories.items(), desc='Парсинг рецептов'):\n",
        "            for subcategory_name, recipes_roll in tqdm(subcategories.items(), desc=category_name, leave=False):\n",
        "                with tqdm(total=len(recipes_roll), desc=subcategory_name, leave=False) as pbar:\n",
        "                    for recipes in take_by(recipes_roll, number_requests):\n",
        "                        asyncio.run(async_parse_recipes(recipes, all_recipes))\n",
        "                        pbar.update(len(recipes))\n",
        "    except Exception as e:\n",
        "        time.sleep(timeout)\n",
        "        amount += 1\n",
        "        \n",
        "    except KeyboardInterrupt as e:\n",
        "        break\n",
        "\n",
        "    finally:\n",
        "        dump(all_recipes, all_recipes_tmp_filename)\n",
        "        if retry and amount >= retry:\n",
        "            break\n",
        "dump(all_recipes, all_recipes_filename) "
      ],
      "metadata": {
        "id": "aD8XcL6PXGH6"
      },
      "execution_count": null,
      "outputs": []
    },
    {
      "cell_type": "markdown",
      "source": [
        "# Повторный парсинг проблемных рецептов"
      ],
      "metadata": {
        "id": "z19vCibiAoO4"
      }
    },
    {
      "cell_type": "code",
      "source": [
        "# поиск проблемных рецептов\n",
        "problems_recipes = {url_recipe:recipe['Изображение'] for url_recipe, recipe in all_recipes.items()\n",
        "                    if recipe['Название'] is None}\n",
        "print(len(problems_recipes))"
      ],
      "metadata": {
        "colab": {
          "base_uri": "https://localhost:8080/"
        },
        "id": "Z8fsHyQDA12f",
        "outputId": "a6559d44-59b6-4986-9601-929b45f0159d"
      },
      "execution_count": null,
      "outputs": [
        {
          "output_type": "stream",
          "name": "stdout",
          "text": [
            "0\n"
          ]
        }
      ]
    },
    {
      "cell_type": "code",
      "source": [
        "problems_recipes"
      ],
      "metadata": {
        "colab": {
          "base_uri": "https://localhost:8080/"
        },
        "id": "hrrjnrKxDmWH",
        "outputId": "18abaea2-0728-4974-9c9a-d4fb8690e32f"
      },
      "execution_count": null,
      "outputs": [
        {
          "output_type": "execute_result",
          "data": {
            "text/plain": [
              "{}"
            ]
          },
          "metadata": {},
          "execution_count": 46
        }
      ]
    },
    {
      "cell_type": "code",
      "source": [
        "for recipe_url, image_url in problems_recipes.items():\n",
        "    all_recipes[recipe_url] = sync_parse_recipe(recipe_url, image_url)"
      ],
      "metadata": {
        "id": "QUr1KbKECGK9"
      },
      "execution_count": null,
      "outputs": []
    },
    {
      "cell_type": "code",
      "source": [
        "del all_recipes['https://eda.ru/recepty/salaty/zelenyy-miks-salat-s-file-greypfruta-kurinym-file-na-grile-sousom-iz-domashnego-yogurta-s-travami-na-sloenom-teste-151525']"
      ],
      "metadata": {
        "id": "5vb9y9wBDo6d"
      },
      "execution_count": null,
      "outputs": []
    },
    {
      "cell_type": "code",
      "source": [
        "dump(all_recipes, all_recipes_filename) "
      ],
      "metadata": {
        "id": "vWW3u3JVCMPT"
      },
      "execution_count": null,
      "outputs": []
    },
    {
      "cell_type": "code",
      "source": [
        "recipes = {\n",
        "    'https://eda.ru/recepty/zakuski/karelskie-pirozhki-s-kartoshkoj--kalitki--42966':\n",
        "    'https://eda.ru/img/eda/c180x180/s1.eda.ru/StaticContent/Photos/160812092111/160819101118/p_O.jpg',\n",
        "\n",
        "    'https://eda.ru/recepty/osnovnye-blyuda/sibas-s-cherri-27121':\n",
        "    'https://eda.ru/img/eda/c180x180/s1.eda.ru/StaticContent/Photos/110809195434/120214140151/p_O.jpg',\n",
        "\n",
        "    'https://eda.ru/recepty/osnovnye-blyuda/kurinaja-grudka-zapechennaja-s-rozmarinom-timjanom-i-cedroj-citrusovih-53526':\n",
        "    'https://eda.ru/img/eda/c180x180/s1.eda.ru/StaticContent/Photos/120213180404/151109015855/p_O.jpg',\n",
        "\n",
        "    'https://eda.ru/recepty/salaty/zelenyy-miks-salat-s-file-greypfruta-kurinym-file-na-grile-sousom-iz-domashnego-yogurta-s-travami-na-sloenom-teste-151525':\n",
        "    None,\n",
        "\n",
        "    'https://eda.ru/recepty/vypechka-deserty/fruktovij-salat-s-apelsinom-marakujej-23145':\n",
        "    'https://eda.ru/img/eda/c180x180/s1.eda.ru/StaticContent/Photos/120214124236/120214124811/p_O.jpg',\n",
        "\n",
        "    'https://eda.ru/recepty/napitki/kofejno-slivochnij-koktejl-s-sambukoj-22727':\n",
        "    'https://eda.ru/img/eda/c180x180/s1.eda.ru/StaticContent/Photos/120131111725/120214123727/p_O.jpg',\n",
        "\n",
        "    'https://eda.ru/recepty/vypechka-deserty/blini-s-cukini-morkovju-24368':\n",
        "    'https://eda.ru/img/eda/c180x180/s1.eda.ru/StaticContent/Photos/120214130615/120214131015/p_O.jpg',\n",
        "\n",
        "    'https://eda.ru/recepty/vypechka-deserty/oladi-iz-kurinogo-mjasa-gerkulesa-28359':\n",
        "    'https://eda.ru/img/eda/c180x180/s1.eda.ru/StaticContent/Photos/120214133254/120214141842/p_O.jpg',\n",
        "\n",
        "    'https://eda.ru/recepty/vypechka-deserty/bulochki-s-rozmarinom-i-sirnoj-nachinkoj-53723':\n",
        "    None,\n",
        "\n",
        "    'https://eda.ru/recepty/vypechka-deserty/bananovye-mini-bulochki-s-kuragoy-92244':\n",
        "    'https://eda.ru/img/eda/c180x180/s1.eda.ru/StaticContent/Photos/120214125956/170217192701/p_O.jpg',\n",
        "\n",
        "    'https://eda.ru/recepty/vypechka-deserty/angliyskie-sdobnye-bulochki-k-chayu-pri-diabete-68938':\n",
        "    'https://eda.ru/img/eda/c180x180/s1.eda.ru/StaticContent/Photos/121120172110/160416201458/p_O.jpg'\n",
        "}\n",
        "\n",
        "parsed_recipes = {}\n",
        "for recipe_url, image_url in recipes.items():\n",
        "    parsed_recipes[recipe_url] = sync_parse_recipe(recipe_url, image_url)"
      ],
      "metadata": {
        "id": "ps4VRRBzAm4Z"
      },
      "execution_count": null,
      "outputs": []
    }
  ],
  "metadata": {
    "colab": {
      "provenance": []
    },
    "kernelspec": {
      "display_name": "Python 3",
      "name": "python3"
    },
    "language_info": {
      "name": "python"
    }
  },
  "nbformat": 4,
  "nbformat_minor": 0
}